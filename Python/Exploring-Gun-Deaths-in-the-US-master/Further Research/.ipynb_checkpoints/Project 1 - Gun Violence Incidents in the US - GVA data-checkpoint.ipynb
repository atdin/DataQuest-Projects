{
 "cells": [
  {
   "cell_type": "markdown",
   "id": "5e93b420",
   "metadata": {},
   "source": [
    "# Gun Violence Incidents in USA - Exploration\n",
    "\n",
    "Gun violence in the US results in tens of thousands of deaths and injuries annually. In 2013, there were 73,505 nonfatal firearm injuries which included 11,208 homicides, 21,175 suicides, 505 deaths due to accidental or negligent discharge of a firearm, and 281 deaths due to firearms use with \"undetermined intent\". \n",
    "\n",
    "In this notebook we will do the following:\n",
    "1. Dataset Preparation\n",
    "<br>\n",
    "2. Exploring the Time Related Trends\\\n",
    "    2.1 Number of Incidents per Year\\\n",
    "    2.2 Average Number of Incidents per Month\\\n",
    "    2.3 Average Number of Incidents per WeekDay\\\n",
    "    2.4 Time Series of Incidents, People Killed and Injured\n",
    "        2.4.1 Is July 4th most Dangerous\n",
    "  \n",
    "3. Exploring the Location Related Trends\n",
    "    3.1 Total Number of Incidents by State\\\n",
    "    3.2 Total People Killed&Injured by State\\\n",
    "    3.3 Population Adjusted - Incidents per 100K by State\\\n",
    "    3.4 Population Adjusted - Incidents per 100K by City\\\n",
    "    3.5 Population Adjusted - People Killed per 100K by City\\\n",
    "    3.6 Population Adjusted - People Injured per 100K by City\\\n",
    "    3.7 Common Areas of Gun Violence Incidents\n",
    "<br>    \n",
    "4. Other characteristics of Gun Violence Incidents\\\n",
    "    4.1 Number of Guns Used in the Incidents\\\n",
    "    4.2 Most Serious Gun Violence Incidents\\\n",
    "    4.3 Key Characteristics of Gun Violence Incidents\\\n",
    "    4.4 Prominent Age of Suspects\\\n",
    "    4.5 Prominent Age of Victims\\\n",
    "    4.6 Gender Group - Suspects and Victims\n",
    "<br>    \n",
    "5. Analysis of Number of Guns Registered Per State\n",
    "\n",
    "Need to use this dataset: https://www.kaggle.com/code/shivamb/deep-exploration-of-gun-violence-in-us/data?select=gun-violence-data_01-2013_03-2018.csv\n",
    "\n",
    "For background ref: \n",
    "- https://fivethirtyeight.com/features/gun-deaths/\n",
    "- https://www.kaggle.com/code/shivamb/deep-exploration-of-gun-violence-in-us\n",
    "\n",
    "Please see README.md for info on datasets and data dictionary"
   ]
  }
 ],
 "metadata": {
  "kernelspec": {
   "display_name": "Python 3 (ipykernel)",
   "language": "python",
   "name": "python3"
  },
  "language_info": {
   "codemirror_mode": {
    "name": "ipython",
    "version": 3
   },
   "file_extension": ".py",
   "mimetype": "text/x-python",
   "name": "python",
   "nbconvert_exporter": "python",
   "pygments_lexer": "ipython3",
   "version": "3.9.7"
  }
 },
 "nbformat": 4,
 "nbformat_minor": 5
}
