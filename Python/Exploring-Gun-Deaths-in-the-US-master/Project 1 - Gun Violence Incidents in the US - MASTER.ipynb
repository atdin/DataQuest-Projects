{
 "cells": [
  {
   "cell_type": "markdown",
   "id": "5e93b420",
   "metadata": {},
   "source": [
    "# Gun Violence Incidents in USA - Exploration\n",
    "\n",
    "Gun violence in the US results in tens of thousands of deaths and injuries annually. In 2013, there were 33,636 gun violence incidents which included 21,175 suicides, 11,674 homicides, 505 deaths due to accidental or negligent discharge of a firearm, and 281 deaths due to firearms use with \"undetermined intent\". \n",
    "\n",
    "In this notebook we will do the following:\n",
    "1. Dataset Preparation\n",
    "<br> \n",
    "\n",
    "2. Exploring the Time Related Trends\\\n",
    "    2.1 Number of Incidents per Year\\\n",
    "    2.2 Average Number of Incidents per Month\\\n",
    "    2.3 Time Series of Incidents, People Killed and Injured\n",
    "<br>   \n",
    "3. Exploring the Location Related Trends\n",
    "    3.1 Total Number of Incidents by Place\\\n",
    "    3.2 Total People Killed&Injured by Place\\\n",
    "    3.3 Common Areas of Gun Violence Incidents\n",
    "<br> \n",
    "4. Exploring the Population Related Trends\n",
    "    4.1 Population Adjusted - Incidents per 100K by Ethnic Group\\\n",
    "    4.2 Population Adjusted - Incidents by Age Group\\\n",
    "    4.3 Population Adjusted - Gender of victims\n",
    "<br>    \n",
    "5. Other characteristics of Gun Violence Incidents\\\n",
    "    5.1 Police involvement in the Incidents\\\n",
    "    5.2 Most Serious Gun Violence Incidents\\\n",
    "    5.3 Key Characteristics of Gun Violence Incidents\\\n",
    "    5.4 Prominent Age of Suspects\\\n",
    "    5.5 Prominent Age of Victims\n",
    "   \n",
    "\n",
    "For background ref: \n",
    "- https://fivethirtyeight.com/features/gun-deaths/\n",
    "- https://www.kaggle.com/code/shivamb/deep-exploration-of-gun-violence-in-us\n",
    "\n",
    "Please see README.md for info on datasets and data dictionary"
   ]
  }
 ],
 "metadata": {
  "kernelspec": {
   "display_name": "Python 3 (ipykernel)",
   "language": "python",
   "name": "python3"
  },
  "language_info": {
   "codemirror_mode": {
    "name": "ipython",
    "version": 3
   },
   "file_extension": ".py",
   "mimetype": "text/x-python",
   "name": "python",
   "nbconvert_exporter": "python",
   "pygments_lexer": "ipython3",
   "version": "3.9.7"
  }
 },
 "nbformat": 4,
 "nbformat_minor": 5
}
