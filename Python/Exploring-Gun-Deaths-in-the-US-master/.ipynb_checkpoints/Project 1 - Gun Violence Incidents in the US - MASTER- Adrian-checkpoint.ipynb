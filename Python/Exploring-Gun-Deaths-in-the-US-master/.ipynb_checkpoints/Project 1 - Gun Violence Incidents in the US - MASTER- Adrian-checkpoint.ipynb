{
 "cells": [
  {
   "cell_type": "markdown",
   "id": "5e93b420",
   "metadata": {},
   "source": [
    "# Gun Violence Incidents in USA - Exploration\n",
    "\n",
    "Gun violence in the US results in tens of thousands of deaths and injuries annually. In 2013, there were 33,636 gun violence incidents which included 21,175 suicides, 11,674 homicides, 505 deaths due to accidental or negligent discharge of a firearm, and 281 deaths due to firearms use with \"undetermined intent\". \n",
    "\n",
    "In this notebook we will do the following:\n",
    "1. Dataset Preparation\n",
    "<br>\n",
    "2. Exploring the Time Related Trends\\\n",
    "    2.1 Number of Incidents per Year\\\n",
    "    2.2 Average Number of Incidents per Month\\\n",
    "    2.3 Time Series of Incidents, People Killed and Injured\n",
    "<br>  \n",
    "3. Exploring the Location Related Trends\n",
    "    3.1 Total Number of Incidents by Place\\\n",
    "    3.2 Total People Killed&Injured by Place\\\n",
    "    3.3 Common Areas of Gun Violence Incidents\n",
    "<br> \n",
    "4. Exploring the Population Related Trends\n",
    "    4.1 Population Adjusted - Incidents per 100K by Ethnic Group\\\n",
    "    4.2 Population Adjusted - Incidents by Age Group\\\n",
    "    4.3 Population Adjusted - Gender of victims\\\n",
    "<br>    \n",
    "5. Other characteristics of Gun Violence Incidents\\\n",
    "    5.1 Police involvement in the Incidents\\\n",
    "    5.2 Most Serious Gun Violence Incidents\\\n",
    "    5.3 Key Characteristics of Gun Violence Incidents\\\n",
    "    5.4 Prominent Age of Suspects\\\n",
    "    5.5 Prominent Age of Victims\\\n",
    "<br>    \n",
    "\n",
    "For background ref: \n",
    "- https://fivethirtyeight.com/features/gun-deaths/\n",
    "- https://www.kaggle.com/code/shivamb/deep-exploration-of-gun-violence-in-us\n",
    "\n",
    "Please see README.md for info on datasets and data dictionary"
   ]
  },
  {
   "cell_type": "code",
   "execution_count": 2,
   "id": "b82356c7",
   "metadata": {},
   "outputs": [],
   "source": [
    "# Import data processing libaries\n",
    "import pandas as pd\n",
    "import seaborn as sns\n",
    "import matplotlib.pyplot as plt\n",
    "import numpy as np"
   ]
  },
  {
   "cell_type": "markdown",
   "id": "ff0eb6e7",
   "metadata": {},
   "source": [
    "## Data Preparation\n",
    "\n",
    "We'll need to first read in the data and clean it for analysis.\n",
    "\n",
    "![separator1](https://i.imgur.com/ZUWYTii.png)"
   ]
  },
  {
   "cell_type": "code",
   "execution_count": 4,
   "id": "abca605d",
   "metadata": {},
   "outputs": [
    {
     "data": {
      "text/html": [
       "<div>\n",
       "<style scoped>\n",
       "    .dataframe tbody tr th:only-of-type {\n",
       "        vertical-align: middle;\n",
       "    }\n",
       "\n",
       "    .dataframe tbody tr th {\n",
       "        vertical-align: top;\n",
       "    }\n",
       "\n",
       "    .dataframe thead th {\n",
       "        text-align: right;\n",
       "    }\n",
       "</style>\n",
       "<table border=\"1\" class=\"dataframe\">\n",
       "  <thead>\n",
       "    <tr style=\"text-align: right;\">\n",
       "      <th></th>\n",
       "      <th>year</th>\n",
       "      <th>month</th>\n",
       "      <th>intent</th>\n",
       "      <th>police</th>\n",
       "      <th>sex</th>\n",
       "      <th>age</th>\n",
       "      <th>race</th>\n",
       "      <th>hispanic</th>\n",
       "      <th>place</th>\n",
       "      <th>education</th>\n",
       "    </tr>\n",
       "  </thead>\n",
       "  <tbody>\n",
       "    <tr>\n",
       "      <th>1</th>\n",
       "      <td>2012</td>\n",
       "      <td>1</td>\n",
       "      <td>Suicide</td>\n",
       "      <td>0</td>\n",
       "      <td>M</td>\n",
       "      <td>34.0</td>\n",
       "      <td>Asian/Pacific Islander</td>\n",
       "      <td>100</td>\n",
       "      <td>Home</td>\n",
       "      <td>4.0</td>\n",
       "    </tr>\n",
       "    <tr>\n",
       "      <th>2</th>\n",
       "      <td>2012</td>\n",
       "      <td>1</td>\n",
       "      <td>Suicide</td>\n",
       "      <td>0</td>\n",
       "      <td>F</td>\n",
       "      <td>21.0</td>\n",
       "      <td>White</td>\n",
       "      <td>100</td>\n",
       "      <td>Street</td>\n",
       "      <td>3.0</td>\n",
       "    </tr>\n",
       "    <tr>\n",
       "      <th>3</th>\n",
       "      <td>2012</td>\n",
       "      <td>1</td>\n",
       "      <td>Suicide</td>\n",
       "      <td>0</td>\n",
       "      <td>M</td>\n",
       "      <td>60.0</td>\n",
       "      <td>White</td>\n",
       "      <td>100</td>\n",
       "      <td>Other specified</td>\n",
       "      <td>4.0</td>\n",
       "    </tr>\n",
       "    <tr>\n",
       "      <th>4</th>\n",
       "      <td>2012</td>\n",
       "      <td>2</td>\n",
       "      <td>Suicide</td>\n",
       "      <td>0</td>\n",
       "      <td>M</td>\n",
       "      <td>64.0</td>\n",
       "      <td>White</td>\n",
       "      <td>100</td>\n",
       "      <td>Home</td>\n",
       "      <td>4.0</td>\n",
       "    </tr>\n",
       "    <tr>\n",
       "      <th>5</th>\n",
       "      <td>2012</td>\n",
       "      <td>2</td>\n",
       "      <td>Suicide</td>\n",
       "      <td>0</td>\n",
       "      <td>M</td>\n",
       "      <td>31.0</td>\n",
       "      <td>White</td>\n",
       "      <td>100</td>\n",
       "      <td>Other specified</td>\n",
       "      <td>2.0</td>\n",
       "    </tr>\n",
       "  </tbody>\n",
       "</table>\n",
       "</div>"
      ],
      "text/plain": [
       "   year  month   intent  police sex   age                    race  hispanic  \\\n",
       "1  2012      1  Suicide       0   M  34.0  Asian/Pacific Islander       100   \n",
       "2  2012      1  Suicide       0   F  21.0                   White       100   \n",
       "3  2012      1  Suicide       0   M  60.0                   White       100   \n",
       "4  2012      2  Suicide       0   M  64.0                   White       100   \n",
       "5  2012      2  Suicide       0   M  31.0                   White       100   \n",
       "\n",
       "             place  education  \n",
       "1             Home        4.0  \n",
       "2           Street        3.0  \n",
       "3  Other specified        4.0  \n",
       "4             Home        4.0  \n",
       "5  Other specified        2.0  "
      ]
     },
     "execution_count": 4,
     "metadata": {},
     "output_type": "execute_result"
    }
   ],
   "source": [
    "# Reading in the guns dataset\n",
    "guns_df = pd.read_csv('guns.csv', index_col='Unnamed: 0')\n",
    "guns_df.head()"
   ]
  },
  {
   "cell_type": "code",
   "execution_count": 7,
   "id": "47cefbcb",
   "metadata": {},
   "outputs": [
    {
     "data": {
      "text/plain": [
       "(100798, 10)"
      ]
     },
     "execution_count": 7,
     "metadata": {},
     "output_type": "execute_result"
    }
   ],
   "source": [
    "# How many records are in this dataset?\n",
    "\n",
    "guns_df.shape"
   ]
  },
  {
   "cell_type": "code",
   "execution_count": 8,
   "id": "5b87aca9",
   "metadata": {},
   "outputs": [
    {
     "data": {
      "text/html": [
       "<div>\n",
       "<style scoped>\n",
       "    .dataframe tbody tr th:only-of-type {\n",
       "        vertical-align: middle;\n",
       "    }\n",
       "\n",
       "    .dataframe tbody tr th {\n",
       "        vertical-align: top;\n",
       "    }\n",
       "\n",
       "    .dataframe thead th {\n",
       "        text-align: right;\n",
       "    }\n",
       "</style>\n",
       "<table border=\"1\" class=\"dataframe\">\n",
       "  <thead>\n",
       "    <tr style=\"text-align: right;\">\n",
       "      <th></th>\n",
       "      <th>year</th>\n",
       "      <th>month</th>\n",
       "      <th>police</th>\n",
       "      <th>age</th>\n",
       "      <th>hispanic</th>\n",
       "      <th>education</th>\n",
       "    </tr>\n",
       "  </thead>\n",
       "  <tbody>\n",
       "    <tr>\n",
       "      <th>count</th>\n",
       "      <td>100798.000000</td>\n",
       "      <td>100798.000000</td>\n",
       "      <td>100798.000000</td>\n",
       "      <td>100780.000000</td>\n",
       "      <td>100798.000000</td>\n",
       "      <td>100745.000000</td>\n",
       "    </tr>\n",
       "    <tr>\n",
       "      <th>mean</th>\n",
       "      <td>2013.000357</td>\n",
       "      <td>6.567601</td>\n",
       "      <td>0.013909</td>\n",
       "      <td>43.857601</td>\n",
       "      <td>114.179607</td>\n",
       "      <td>2.296352</td>\n",
       "    </tr>\n",
       "    <tr>\n",
       "      <th>std</th>\n",
       "      <td>0.816278</td>\n",
       "      <td>3.405609</td>\n",
       "      <td>0.117114</td>\n",
       "      <td>19.496181</td>\n",
       "      <td>61.595734</td>\n",
       "      <td>0.990105</td>\n",
       "    </tr>\n",
       "    <tr>\n",
       "      <th>min</th>\n",
       "      <td>2012.000000</td>\n",
       "      <td>1.000000</td>\n",
       "      <td>0.000000</td>\n",
       "      <td>0.000000</td>\n",
       "      <td>100.000000</td>\n",
       "      <td>1.000000</td>\n",
       "    </tr>\n",
       "    <tr>\n",
       "      <th>25%</th>\n",
       "      <td>2012.000000</td>\n",
       "      <td>4.000000</td>\n",
       "      <td>0.000000</td>\n",
       "      <td>27.000000</td>\n",
       "      <td>100.000000</td>\n",
       "      <td>2.000000</td>\n",
       "    </tr>\n",
       "    <tr>\n",
       "      <th>50%</th>\n",
       "      <td>2013.000000</td>\n",
       "      <td>7.000000</td>\n",
       "      <td>0.000000</td>\n",
       "      <td>42.000000</td>\n",
       "      <td>100.000000</td>\n",
       "      <td>2.000000</td>\n",
       "    </tr>\n",
       "    <tr>\n",
       "      <th>75%</th>\n",
       "      <td>2014.000000</td>\n",
       "      <td>9.000000</td>\n",
       "      <td>0.000000</td>\n",
       "      <td>58.000000</td>\n",
       "      <td>100.000000</td>\n",
       "      <td>3.000000</td>\n",
       "    </tr>\n",
       "    <tr>\n",
       "      <th>max</th>\n",
       "      <td>2014.000000</td>\n",
       "      <td>12.000000</td>\n",
       "      <td>1.000000</td>\n",
       "      <td>107.000000</td>\n",
       "      <td>998.000000</td>\n",
       "      <td>5.000000</td>\n",
       "    </tr>\n",
       "  </tbody>\n",
       "</table>\n",
       "</div>"
      ],
      "text/plain": [
       "                year          month         police            age  \\\n",
       "count  100798.000000  100798.000000  100798.000000  100780.000000   \n",
       "mean     2013.000357       6.567601       0.013909      43.857601   \n",
       "std         0.816278       3.405609       0.117114      19.496181   \n",
       "min      2012.000000       1.000000       0.000000       0.000000   \n",
       "25%      2012.000000       4.000000       0.000000      27.000000   \n",
       "50%      2013.000000       7.000000       0.000000      42.000000   \n",
       "75%      2014.000000       9.000000       0.000000      58.000000   \n",
       "max      2014.000000      12.000000       1.000000     107.000000   \n",
       "\n",
       "            hispanic      education  \n",
       "count  100798.000000  100745.000000  \n",
       "mean      114.179607       2.296352  \n",
       "std        61.595734       0.990105  \n",
       "min       100.000000       1.000000  \n",
       "25%       100.000000       2.000000  \n",
       "50%       100.000000       2.000000  \n",
       "75%       100.000000       3.000000  \n",
       "max       998.000000       5.000000  "
      ]
     },
     "execution_count": 8,
     "metadata": {},
     "output_type": "execute_result"
    }
   ],
   "source": [
    "# Let's look at some descriptive stats.\n",
    "\n",
    "guns_df.describe()\n",
    "# There's only data from 2012 to 2014\n",
    "# There is a 0 year old victim and 107-year old victim in this dataset\n",
    "# There's an extra column indicating the hispanic origin of the victim. \n",
    "## Does that mean that there is a higher proportion of hispanic gun violence victims in the US compared to other ethnic groups?\n",
    "\n",
    "# It looks like we'll need to combine the year and month to create a time-series analysis"
   ]
  },
  {
   "cell_type": "code",
   "execution_count": 9,
   "id": "0984a203",
   "metadata": {},
   "outputs": [
    {
     "name": "stdout",
     "output_type": "stream",
     "text": [
      "<class 'pandas.core.frame.DataFrame'>\n",
      "Int64Index: 100798 entries, 1 to 100798\n",
      "Data columns (total 10 columns):\n",
      " #   Column     Non-Null Count   Dtype  \n",
      "---  ------     --------------   -----  \n",
      " 0   year       100798 non-null  int64  \n",
      " 1   month      100798 non-null  int64  \n",
      " 2   intent     100797 non-null  object \n",
      " 3   police     100798 non-null  int64  \n",
      " 4   sex        100798 non-null  object \n",
      " 5   age        100780 non-null  float64\n",
      " 6   race       100798 non-null  object \n",
      " 7   hispanic   100798 non-null  int64  \n",
      " 8   place      99414 non-null   object \n",
      " 9   education  100745 non-null  float64\n",
      "dtypes: float64(2), int64(4), object(4)\n",
      "memory usage: 8.5+ MB\n"
     ]
    }
   ],
   "source": [
    "guns_df.info()\n",
    "\n",
    "# The intent column seems to have 1 null value\n",
    "# The age column seems to have quite a few null values\n",
    "# Place and education columns also have null values"
   ]
  },
  {
   "cell_type": "markdown",
   "id": "28b45bb9",
   "metadata": {},
   "source": [
    "### Fixing the dates\n",
    "\n",
    "It looks like we need to join the year and month column and parse them"
   ]
  },
  {
   "cell_type": "code",
   "execution_count": 19,
   "id": "3d04f58f",
   "metadata": {},
   "outputs": [],
   "source": [
    "guns_df.head()\n",
    "# pd.to_datetime(guns_df[['year', 'month']]) # doesn't work because you need year, month, day \n",
    "\n",
    "# Here we join the two columns together as string format first\n",
    "year_month_col = guns_df['year'].astype(str) + '-' + guns_df['month'].astype(str)\n",
    "guns_df.insert(loc=2, column='year_month', value=year_month_col)\n",
    "\n",
    "# Need to double check if the year-month format will result in clean, easy time-series analyses"
   ]
  },
  {
   "cell_type": "code",
   "execution_count": 26,
   "id": "a22024c4",
   "metadata": {},
   "outputs": [],
   "source": [
    "# Parsing the dates into datetime format\n",
    "\n",
    "guns_df['year_month']\n",
    "guns_df['year_month'] = pd.to_datetime(arg=guns_df['year_month'], format='%Y/%m').dt.to_period('M')\n",
    "\n"
   ]
  },
  {
   "cell_type": "code",
   "execution_count": 27,
   "id": "63e24a04",
   "metadata": {},
   "outputs": [
    {
     "name": "stdout",
     "output_type": "stream",
     "text": [
      "<class 'pandas.core.frame.DataFrame'>\n",
      "Int64Index: 100798 entries, 1 to 100798\n",
      "Data columns (total 11 columns):\n",
      " #   Column      Non-Null Count   Dtype    \n",
      "---  ------      --------------   -----    \n",
      " 0   year        100798 non-null  int64    \n",
      " 1   month       100798 non-null  int64    \n",
      " 2   year_month  100798 non-null  period[M]\n",
      " 3   intent      100797 non-null  object   \n",
      " 4   police      100798 non-null  int64    \n",
      " 5   sex         100798 non-null  object   \n",
      " 6   age         100780 non-null  float64  \n",
      " 7   race        100798 non-null  object   \n",
      " 8   hispanic    100798 non-null  int64    \n",
      " 9   place       99414 non-null   object   \n",
      " 10  education   100745 non-null  float64  \n",
      "dtypes: float64(2), int64(4), object(4), period[M](1)\n",
      "memory usage: 9.2+ MB\n"
     ]
    }
   ],
   "source": [
    "# Checking the dtypes\n",
    "\n",
    "guns_df.info()\n",
    "\n",
    "# Looks like we got a period[M] dtype instead of datetime. Might be a problem later"
   ]
  },
  {
   "cell_type": "code",
   "execution_count": 28,
   "id": "d5dd7187",
   "metadata": {},
   "outputs": [
    {
     "data": {
      "text/html": [
       "<div>\n",
       "<style scoped>\n",
       "    .dataframe tbody tr th:only-of-type {\n",
       "        vertical-align: middle;\n",
       "    }\n",
       "\n",
       "    .dataframe tbody tr th {\n",
       "        vertical-align: top;\n",
       "    }\n",
       "\n",
       "    .dataframe thead th {\n",
       "        text-align: right;\n",
       "    }\n",
       "</style>\n",
       "<table border=\"1\" class=\"dataframe\">\n",
       "  <thead>\n",
       "    <tr style=\"text-align: right;\">\n",
       "      <th></th>\n",
       "      <th>year</th>\n",
       "      <th>month</th>\n",
       "      <th>year_month</th>\n",
       "      <th>intent</th>\n",
       "      <th>police</th>\n",
       "      <th>sex</th>\n",
       "      <th>age</th>\n",
       "      <th>race</th>\n",
       "      <th>hispanic</th>\n",
       "      <th>place</th>\n",
       "      <th>education</th>\n",
       "    </tr>\n",
       "  </thead>\n",
       "  <tbody>\n",
       "    <tr>\n",
       "      <th>1</th>\n",
       "      <td>2012</td>\n",
       "      <td>1</td>\n",
       "      <td>2012-01</td>\n",
       "      <td>Suicide</td>\n",
       "      <td>0</td>\n",
       "      <td>M</td>\n",
       "      <td>34.0</td>\n",
       "      <td>Asian/Pacific Islander</td>\n",
       "      <td>100</td>\n",
       "      <td>Home</td>\n",
       "      <td>4.0</td>\n",
       "    </tr>\n",
       "    <tr>\n",
       "      <th>2</th>\n",
       "      <td>2012</td>\n",
       "      <td>1</td>\n",
       "      <td>2012-01</td>\n",
       "      <td>Suicide</td>\n",
       "      <td>0</td>\n",
       "      <td>F</td>\n",
       "      <td>21.0</td>\n",
       "      <td>White</td>\n",
       "      <td>100</td>\n",
       "      <td>Street</td>\n",
       "      <td>3.0</td>\n",
       "    </tr>\n",
       "    <tr>\n",
       "      <th>3</th>\n",
       "      <td>2012</td>\n",
       "      <td>1</td>\n",
       "      <td>2012-01</td>\n",
       "      <td>Suicide</td>\n",
       "      <td>0</td>\n",
       "      <td>M</td>\n",
       "      <td>60.0</td>\n",
       "      <td>White</td>\n",
       "      <td>100</td>\n",
       "      <td>Other specified</td>\n",
       "      <td>4.0</td>\n",
       "    </tr>\n",
       "    <tr>\n",
       "      <th>4</th>\n",
       "      <td>2012</td>\n",
       "      <td>2</td>\n",
       "      <td>2012-02</td>\n",
       "      <td>Suicide</td>\n",
       "      <td>0</td>\n",
       "      <td>M</td>\n",
       "      <td>64.0</td>\n",
       "      <td>White</td>\n",
       "      <td>100</td>\n",
       "      <td>Home</td>\n",
       "      <td>4.0</td>\n",
       "    </tr>\n",
       "    <tr>\n",
       "      <th>5</th>\n",
       "      <td>2012</td>\n",
       "      <td>2</td>\n",
       "      <td>2012-02</td>\n",
       "      <td>Suicide</td>\n",
       "      <td>0</td>\n",
       "      <td>M</td>\n",
       "      <td>31.0</td>\n",
       "      <td>White</td>\n",
       "      <td>100</td>\n",
       "      <td>Other specified</td>\n",
       "      <td>2.0</td>\n",
       "    </tr>\n",
       "  </tbody>\n",
       "</table>\n",
       "</div>"
      ],
      "text/plain": [
       "   year  month year_month   intent  police sex   age                    race  \\\n",
       "1  2012      1    2012-01  Suicide       0   M  34.0  Asian/Pacific Islander   \n",
       "2  2012      1    2012-01  Suicide       0   F  21.0                   White   \n",
       "3  2012      1    2012-01  Suicide       0   M  60.0                   White   \n",
       "4  2012      2    2012-02  Suicide       0   M  64.0                   White   \n",
       "5  2012      2    2012-02  Suicide       0   M  31.0                   White   \n",
       "\n",
       "   hispanic            place  education  \n",
       "1       100             Home        4.0  \n",
       "2       100           Street        3.0  \n",
       "3       100  Other specified        4.0  \n",
       "4       100             Home        4.0  \n",
       "5       100  Other specified        2.0  "
      ]
     },
     "execution_count": 28,
     "metadata": {},
     "output_type": "execute_result"
    }
   ],
   "source": [
    "guns_df.head()"
   ]
  },
  {
   "cell_type": "markdown",
   "id": "4cfcc68d",
   "metadata": {},
   "source": [
    "## Exploring the Time Related Trends\n",
    "\n",
    "Let's take a look at how gun violence incidents have changed over time.\n",
    "\n",
    "![separator1](https://i.imgur.com/ZUWYTii.png)"
   ]
  },
  {
   "cell_type": "markdown",
   "id": "8a134ce6",
   "metadata": {},
   "source": [
    "### Number of Incidents per Year"
   ]
  },
  {
   "cell_type": "code",
   "execution_count": 35,
   "id": "195daf8d",
   "metadata": {},
   "outputs": [
    {
     "data": {
      "text/plain": [
       "<AxesSubplot:ylabel='Frequency'>"
      ]
     },
     "execution_count": 35,
     "metadata": {},
     "output_type": "execute_result"
    },
    {
     "data": {
      "image/png": "[encoded data removed]",
      "text/plain": [
       "<Figure size 720x432 with 1 Axes>"
      ]
     },
     "metadata": {
      "needs_background": "light"
     },
     "output_type": "display_data"
    }
   ],
   "source": [
    "# To understand the number of incidents per year, we should plot it\n",
    "# Let's try a frequency diagram\n",
    "\n",
    "guns_df['year'].plot(kind='hist', figsize=(10,6))\n",
    "\n",
    "# The frequency graph doesn't seem to be working properly\n",
    "# There's an issue with the bins. And all of the bars are the same height. hmm.."
   ]
  },
  {
   "cell_type": "code",
   "execution_count": 36,
   "id": "afe8584a",
   "metadata": {},
   "outputs": [
    {
     "data": {
      "text/plain": [
       "2013    33636\n",
       "2014    33599\n",
       "2012    33563\n",
       "Name: year, dtype: int64"
      ]
     },
     "execution_count": 36,
     "metadata": {},
     "output_type": "execute_result"
    }
   ],
   "source": [
    "# Test to see the number of records per year\n",
    "\n",
    "guns_df['year'].value_counts()\n",
    "\n",
    "# It looks like each year has the same number of incidents. \n",
    "# Looks a bit odd. But maybe if we dig deeper, the nature of each incident\n",
    "# could be different"
   ]
  },
  {
   "cell_type": "code",
   "execution_count": 37,
   "id": "dc821cf5",
   "metadata": {},
   "outputs": [
    {
     "data": {
      "text/plain": [
       "<AxesSubplot:>"
      ]
     },
     "execution_count": 37,
     "metadata": {},
     "output_type": "execute_result"
    },
    {
     "data": {
      "image/png": "[encoded data removed]",
      "text/plain": [
       "<Figure size 432x432 with 1 Axes>"
      ]
     },
     "metadata": {
      "needs_background": "light"
     },
     "output_type": "display_data"
    }
   ],
   "source": [
    "guns_df['year'].value_counts().plot(kind='bar', figsize=(6,6))\n"
   ]
  },
  {
   "cell_type": "code",
   "execution_count": null,
   "id": "c0d9f1d4",
   "metadata": {},
   "outputs": [],
   "source": []
  },
  {
   "cell_type": "code",
   "execution_count": null,
   "id": "2c54ebc4",
   "metadata": {},
   "outputs": [],
   "source": []
  },
  {
   "cell_type": "code",
   "execution_count": 6,
   "id": "34aafded",
   "metadata": {},
   "outputs": [
    {
     "data": {
      "text/html": [
       "<div>\n",
       "<style scoped>\n",
       "    .dataframe tbody tr th:only-of-type {\n",
       "        vertical-align: middle;\n",
       "    }\n",
       "\n",
       "    .dataframe tbody tr th {\n",
       "        vertical-align: top;\n",
       "    }\n",
       "\n",
       "    .dataframe thead th {\n",
       "        text-align: right;\n",
       "    }\n",
       "</style>\n",
       "<table border=\"1\" class=\"dataframe\">\n",
       "  <thead>\n",
       "    <tr style=\"text-align: right;\">\n",
       "      <th></th>\n",
       "      <th>Year</th>\n",
       "      <th>Id.1</th>\n",
       "      <th>Sex</th>\n",
       "      <th>Id.2</th>\n",
       "      <th>Hispanic Origin</th>\n",
       "      <th>Id.3</th>\n",
       "      <th>Id2</th>\n",
       "      <th>Geography</th>\n",
       "      <th>Total</th>\n",
       "      <th>Race Alone - White</th>\n",
       "      <th>Race Alone - Hispanic</th>\n",
       "      <th>Race Alone - Black or African American</th>\n",
       "      <th>Race Alone - American Indian and Alaska Native</th>\n",
       "      <th>Race Alone - Asian</th>\n",
       "      <th>Race Alone - Native Hawaiian and Other Pacific Islander</th>\n",
       "      <th>Two or More Races</th>\n",
       "    </tr>\n",
       "    <tr>\n",
       "      <th>Id</th>\n",
       "      <th></th>\n",
       "      <th></th>\n",
       "      <th></th>\n",
       "      <th></th>\n",
       "      <th></th>\n",
       "      <th></th>\n",
       "      <th></th>\n",
       "      <th></th>\n",
       "      <th></th>\n",
       "      <th></th>\n",
       "      <th></th>\n",
       "      <th></th>\n",
       "      <th></th>\n",
       "      <th></th>\n",
       "      <th></th>\n",
       "      <th></th>\n",
       "    </tr>\n",
       "  </thead>\n",
       "  <tbody>\n",
       "    <tr>\n",
       "      <th>cen42010</th>\n",
       "      <td>April 1, 2010 Census</td>\n",
       "      <td>totsex</td>\n",
       "      <td>Both Sexes</td>\n",
       "      <td>tothisp</td>\n",
       "      <td>Total</td>\n",
       "      <td>0100000US</td>\n",
       "      <td>NaN</td>\n",
       "      <td>United States</td>\n",
       "      <td>308745538</td>\n",
       "      <td>197318956</td>\n",
       "      <td>44618105</td>\n",
       "      <td>40250635</td>\n",
       "      <td>3739506</td>\n",
       "      <td>15159516</td>\n",
       "      <td>674625</td>\n",
       "      <td>6984195</td>\n",
       "    </tr>\n",
       "  </tbody>\n",
       "</table>\n",
       "</div>"
      ],
      "text/plain": [
       "                          Year    Id.1         Sex     Id.2 Hispanic Origin  \\\n",
       "Id                                                                            \n",
       "cen42010  April 1, 2010 Census  totsex  Both Sexes  tothisp           Total   \n",
       "\n",
       "               Id.3  Id2      Geography      Total  Race Alone - White  \\\n",
       "Id                                                                       \n",
       "cen42010  0100000US  NaN  United States  308745538           197318956   \n",
       "\n",
       "          Race Alone - Hispanic  Race Alone - Black or African American  \\\n",
       "Id                                                                        \n",
       "cen42010               44618105                                40250635   \n",
       "\n",
       "          Race Alone - American Indian and Alaska Native  Race Alone - Asian  \\\n",
       "Id                                                                             \n",
       "cen42010                                         3739506            15159516   \n",
       "\n",
       "          Race Alone - Native Hawaiian and Other Pacific Islander  \\\n",
       "Id                                                                  \n",
       "cen42010                                             674625         \n",
       "\n",
       "          Two or More Races  \n",
       "Id                           \n",
       "cen42010            6984195  "
      ]
     },
     "execution_count": 6,
     "metadata": {},
     "output_type": "execute_result"
    }
   ],
   "source": [
    "# Reading in the census dataset\n",
    "census_df = pd.read_csv('census.csv', index_col='Id')\n",
    "census_df.head()"
   ]
  }
 ],
 "metadata": {
  "kernelspec": {
   "display_name": "Python 3 (ipykernel)",
   "language": "python",
   "name": "python3"
  },
  "language_info": {
   "codemirror_mode": {
    "name": "ipython",
    "version": 3
   },
   "file_extension": ".py",
   "mimetype": "text/x-python",
   "name": "python",
   "nbconvert_exporter": "python",
   "pygments_lexer": "ipython3",
   "version": "3.9.7"
  }
 },
 "nbformat": 4,
 "nbformat_minor": 5
}
